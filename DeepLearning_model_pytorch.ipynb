{
  "cells": [
    {
      "cell_type": "code",
      "execution_count": 1,
      "id": "d744f3b5",
      "metadata": {
        "id": "d744f3b5"
      },
      "outputs": [],
      "source": [
        "import numpy as np\n",
        "import pandas as pd\n",
        "import torch\n",
        "import torch.nn as nn\n",
        "import torch.optim as optim\n",
        "from torch.utils.data import DataLoader, TensorDataset\n",
        "from sklearn.preprocessing import LabelEncoder\n",
        "from sklearn.model_selection import train_test_split\n",
        "from nltk.tokenize import word_tokenize\n",
        "from sklearn.metrics import accuracy_score"
      ]
    },
    {
      "cell_type": "code",
      "execution_count": 2,
      "id": "98935a65",
      "metadata": {
        "colab": {
          "base_uri": "https://localhost:8080/"
        },
        "id": "98935a65",
        "outputId": "be65ea6e-9166-44b1-c8c5-ce5a1993872e"
      },
      "outputs": [
        {
          "output_type": "stream",
          "name": "stderr",
          "text": [
            "[nltk_data] Downloading package punkt to /root/nltk_data...\n",
            "[nltk_data]   Package punkt is already up-to-date!\n"
          ]
        },
        {
          "output_type": "execute_result",
          "data": {
            "text/plain": [
              "True"
            ]
          },
          "metadata": {},
          "execution_count": 2
        }
      ],
      "source": [
        "import nltk\n",
        "nltk.download('punkt')"
      ]
    },
    {
      "cell_type": "code",
      "execution_count": 26,
      "id": "247b25d5",
      "metadata": {
        "colab": {
          "base_uri": "https://localhost:8080/",
          "height": 423
        },
        "id": "247b25d5",
        "outputId": "c5fd0405-ffb7-48bf-eec8-4243305d435a"
      },
      "outputs": [
        {
          "output_type": "execute_result",
          "data": {
            "text/plain": [
              "      type                                               text\n",
              "0      ham  हर सामुदायिक स्तर पर ईमानदारी और कर्मठता से प्...\n",
              "1      ham  प्लेयर्स को लंबे समय तक बर्फ पर चलने से खुद को...\n",
              "2      ham  सज्जन! हम आपसे संपर्क करने का प्रयास कर रहे है...\n",
              "3     spam  राजश्री कावेरी लॉटरी घोषित होने के आधे घंटे बा...\n",
              "4      ham  धार्मिक पर्वों और उत्सवों की अभिवृद्धि के साथ-...\n",
              "...    ...                                                ...\n",
              "2995   ham  हाय इट्स केट आपकी शाम कैसी है? मुझे आशा है कि ...\n",
              "2996  spam  एक अधिकारी के अनुसार, यदि किसी लॉटरी एजेंट ने ...\n",
              "2997  spam  शॉपिंग अभियान बनाते समय आप निर्णय लेते हैं कि ...\n",
              "2998   ham  इसके साथ ही छुप कर अटैक करने का भी एक अलग रोमा...\n",
              "2999  spam   पहले लॉटरी टिकट ने ही इस भारतीय को रातोंरात ब...\n",
              "\n",
              "[3000 rows x 2 columns]"
            ],
            "text/html": [
              "\n",
              "  <div id=\"df-ce5f775d-5e2e-4f07-b400-56c8c987823f\" class=\"colab-df-container\">\n",
              "    <div>\n",
              "<style scoped>\n",
              "    .dataframe tbody tr th:only-of-type {\n",
              "        vertical-align: middle;\n",
              "    }\n",
              "\n",
              "    .dataframe tbody tr th {\n",
              "        vertical-align: top;\n",
              "    }\n",
              "\n",
              "    .dataframe thead th {\n",
              "        text-align: right;\n",
              "    }\n",
              "</style>\n",
              "<table border=\"1\" class=\"dataframe\">\n",
              "  <thead>\n",
              "    <tr style=\"text-align: right;\">\n",
              "      <th></th>\n",
              "      <th>type</th>\n",
              "      <th>text</th>\n",
              "    </tr>\n",
              "  </thead>\n",
              "  <tbody>\n",
              "    <tr>\n",
              "      <th>0</th>\n",
              "      <td>ham</td>\n",
              "      <td>हर सामुदायिक स्तर पर ईमानदारी और कर्मठता से प्...</td>\n",
              "    </tr>\n",
              "    <tr>\n",
              "      <th>1</th>\n",
              "      <td>ham</td>\n",
              "      <td>प्लेयर्स को लंबे समय तक बर्फ पर चलने से खुद को...</td>\n",
              "    </tr>\n",
              "    <tr>\n",
              "      <th>2</th>\n",
              "      <td>ham</td>\n",
              "      <td>सज्जन! हम आपसे संपर्क करने का प्रयास कर रहे है...</td>\n",
              "    </tr>\n",
              "    <tr>\n",
              "      <th>3</th>\n",
              "      <td>spam</td>\n",
              "      <td>राजश्री कावेरी लॉटरी घोषित होने के आधे घंटे बा...</td>\n",
              "    </tr>\n",
              "    <tr>\n",
              "      <th>4</th>\n",
              "      <td>ham</td>\n",
              "      <td>धार्मिक पर्वों और उत्सवों की अभिवृद्धि के साथ-...</td>\n",
              "    </tr>\n",
              "    <tr>\n",
              "      <th>...</th>\n",
              "      <td>...</td>\n",
              "      <td>...</td>\n",
              "    </tr>\n",
              "    <tr>\n",
              "      <th>2995</th>\n",
              "      <td>ham</td>\n",
              "      <td>हाय इट्स केट आपकी शाम कैसी है? मुझे आशा है कि ...</td>\n",
              "    </tr>\n",
              "    <tr>\n",
              "      <th>2996</th>\n",
              "      <td>spam</td>\n",
              "      <td>एक अधिकारी के अनुसार, यदि किसी लॉटरी एजेंट ने ...</td>\n",
              "    </tr>\n",
              "    <tr>\n",
              "      <th>2997</th>\n",
              "      <td>spam</td>\n",
              "      <td>शॉपिंग अभियान बनाते समय आप निर्णय लेते हैं कि ...</td>\n",
              "    </tr>\n",
              "    <tr>\n",
              "      <th>2998</th>\n",
              "      <td>ham</td>\n",
              "      <td>इसके साथ ही छुप कर अटैक करने का भी एक अलग रोमा...</td>\n",
              "    </tr>\n",
              "    <tr>\n",
              "      <th>2999</th>\n",
              "      <td>spam</td>\n",
              "      <td>पहले लॉटरी टिकट ने ही इस भारतीय को रातोंरात ब...</td>\n",
              "    </tr>\n",
              "  </tbody>\n",
              "</table>\n",
              "<p>3000 rows × 2 columns</p>\n",
              "</div>\n",
              "    <div class=\"colab-df-buttons\">\n",
              "\n",
              "  <div class=\"colab-df-container\">\n",
              "    <button class=\"colab-df-convert\" onclick=\"convertToInteractive('df-ce5f775d-5e2e-4f07-b400-56c8c987823f')\"\n",
              "            title=\"Convert this dataframe to an interactive table.\"\n",
              "            style=\"display:none;\">\n",
              "\n",
              "  <svg xmlns=\"http://www.w3.org/2000/svg\" height=\"24px\" viewBox=\"0 -960 960 960\">\n",
              "    <path d=\"M120-120v-720h720v720H120Zm60-500h600v-160H180v160Zm220 220h160v-160H400v160Zm0 220h160v-160H400v160ZM180-400h160v-160H180v160Zm440 0h160v-160H620v160ZM180-180h160v-160H180v160Zm440 0h160v-160H620v160Z\"/>\n",
              "  </svg>\n",
              "    </button>\n",
              "\n",
              "  <style>\n",
              "    .colab-df-container {\n",
              "      display:flex;\n",
              "      gap: 12px;\n",
              "    }\n",
              "\n",
              "    .colab-df-convert {\n",
              "      background-color: #E8F0FE;\n",
              "      border: none;\n",
              "      border-radius: 50%;\n",
              "      cursor: pointer;\n",
              "      display: none;\n",
              "      fill: #1967D2;\n",
              "      height: 32px;\n",
              "      padding: 0 0 0 0;\n",
              "      width: 32px;\n",
              "    }\n",
              "\n",
              "    .colab-df-convert:hover {\n",
              "      background-color: #E2EBFA;\n",
              "      box-shadow: 0px 1px 2px rgba(60, 64, 67, 0.3), 0px 1px 3px 1px rgba(60, 64, 67, 0.15);\n",
              "      fill: #174EA6;\n",
              "    }\n",
              "\n",
              "    .colab-df-buttons div {\n",
              "      margin-bottom: 4px;\n",
              "    }\n",
              "\n",
              "    [theme=dark] .colab-df-convert {\n",
              "      background-color: #3B4455;\n",
              "      fill: #D2E3FC;\n",
              "    }\n",
              "\n",
              "    [theme=dark] .colab-df-convert:hover {\n",
              "      background-color: #434B5C;\n",
              "      box-shadow: 0px 1px 3px 1px rgba(0, 0, 0, 0.15);\n",
              "      filter: drop-shadow(0px 1px 2px rgba(0, 0, 0, 0.3));\n",
              "      fill: #FFFFFF;\n",
              "    }\n",
              "  </style>\n",
              "\n",
              "    <script>\n",
              "      const buttonEl =\n",
              "        document.querySelector('#df-ce5f775d-5e2e-4f07-b400-56c8c987823f button.colab-df-convert');\n",
              "      buttonEl.style.display =\n",
              "        google.colab.kernel.accessAllowed ? 'block' : 'none';\n",
              "\n",
              "      async function convertToInteractive(key) {\n",
              "        const element = document.querySelector('#df-ce5f775d-5e2e-4f07-b400-56c8c987823f');\n",
              "        const dataTable =\n",
              "          await google.colab.kernel.invokeFunction('convertToInteractive',\n",
              "                                                    [key], {});\n",
              "        if (!dataTable) return;\n",
              "\n",
              "        const docLinkHtml = 'Like what you see? Visit the ' +\n",
              "          '<a target=\"_blank\" href=https://colab.research.google.com/notebooks/data_table.ipynb>data table notebook</a>'\n",
              "          + ' to learn more about interactive tables.';\n",
              "        element.innerHTML = '';\n",
              "        dataTable['output_type'] = 'display_data';\n",
              "        await google.colab.output.renderOutput(dataTable, element);\n",
              "        const docLink = document.createElement('div');\n",
              "        docLink.innerHTML = docLinkHtml;\n",
              "        element.appendChild(docLink);\n",
              "      }\n",
              "    </script>\n",
              "  </div>\n",
              "\n",
              "\n",
              "<div id=\"df-73661a23-23a7-4093-bb3a-1a24f03693c7\">\n",
              "  <button class=\"colab-df-quickchart\" onclick=\"quickchart('df-73661a23-23a7-4093-bb3a-1a24f03693c7')\"\n",
              "            title=\"Suggest charts.\"\n",
              "            style=\"display:none;\">\n",
              "\n",
              "<svg xmlns=\"http://www.w3.org/2000/svg\" height=\"24px\"viewBox=\"0 0 24 24\"\n",
              "     width=\"24px\">\n",
              "    <g>\n",
              "        <path d=\"M19 3H5c-1.1 0-2 .9-2 2v14c0 1.1.9 2 2 2h14c1.1 0 2-.9 2-2V5c0-1.1-.9-2-2-2zM9 17H7v-7h2v7zm4 0h-2V7h2v10zm4 0h-2v-4h2v4z\"/>\n",
              "    </g>\n",
              "</svg>\n",
              "  </button>\n",
              "\n",
              "<style>\n",
              "  .colab-df-quickchart {\n",
              "    background-color: #E8F0FE;\n",
              "    border: none;\n",
              "    border-radius: 50%;\n",
              "    cursor: pointer;\n",
              "    display: none;\n",
              "    fill: #1967D2;\n",
              "    height: 32px;\n",
              "    padding: 0 0 0 0;\n",
              "    width: 32px;\n",
              "  }\n",
              "\n",
              "  .colab-df-quickchart:hover {\n",
              "    background-color: #E2EBFA;\n",
              "    box-shadow: 0px 1px 2px rgba(60, 64, 67, 0.3), 0px 1px 3px 1px rgba(60, 64, 67, 0.15);\n",
              "    fill: #174EA6;\n",
              "  }\n",
              "\n",
              "  [theme=dark] .colab-df-quickchart {\n",
              "    background-color: #3B4455;\n",
              "    fill: #D2E3FC;\n",
              "  }\n",
              "\n",
              "  [theme=dark] .colab-df-quickchart:hover {\n",
              "    background-color: #434B5C;\n",
              "    box-shadow: 0px 1px 3px 1px rgba(0, 0, 0, 0.15);\n",
              "    filter: drop-shadow(0px 1px 2px rgba(0, 0, 0, 0.3));\n",
              "    fill: #FFFFFF;\n",
              "  }\n",
              "</style>\n",
              "\n",
              "  <script>\n",
              "    async function quickchart(key) {\n",
              "      const charts = await google.colab.kernel.invokeFunction(\n",
              "          'suggestCharts', [key], {});\n",
              "    }\n",
              "    (() => {\n",
              "      let quickchartButtonEl =\n",
              "        document.querySelector('#df-73661a23-23a7-4093-bb3a-1a24f03693c7 button');\n",
              "      quickchartButtonEl.style.display =\n",
              "        google.colab.kernel.accessAllowed ? 'block' : 'none';\n",
              "    })();\n",
              "  </script>\n",
              "</div>\n",
              "    </div>\n",
              "  </div>\n"
            ]
          },
          "metadata": {},
          "execution_count": 26
        }
      ],
      "source": [
        "df = pd.read_excel(\"./hindi_spam_3K.xlsx\")\n",
        "df"
      ]
    },
    {
      "cell_type": "code",
      "execution_count": 5,
      "id": "56ece9af",
      "metadata": {
        "scrolled": true,
        "colab": {
          "base_uri": "https://localhost:8080/"
        },
        "id": "56ece9af",
        "outputId": "cc9fb720-5782-4646-f9de-860c66f24a47"
      },
      "outputs": [
        {
          "output_type": "stream",
          "name": "stdout",
          "text": [
            "Is CUDA available:  True\n",
            "CUDA version:  11.8\n",
            "Current Device ID:  0\n",
            "Name of the CUDA device:  Tesla T4\n"
          ]
        }
      ],
      "source": [
        "# checking for cuda\n",
        "print ('Is CUDA available: ', torch.cuda.is_available())\n",
        "print ('CUDA version: ', torch.version.cuda )\n",
        "print ('Current Device ID: ', torch.cuda.current_device())\n",
        "print ('Name of the CUDA device: ', torch.cuda.get_device_name(torch.cuda.current_device()))"
      ]
    },
    {
      "cell_type": "code",
      "execution_count": 6,
      "id": "b2031d32",
      "metadata": {
        "colab": {
          "base_uri": "https://localhost:8080/"
        },
        "id": "b2031d32",
        "outputId": "f37f79b3-d3b3-4091-9205-3b8207200a4a"
      },
      "outputs": [
        {
          "output_type": "stream",
          "name": "stdout",
          "text": [
            "Using cuda device\n"
          ]
        }
      ],
      "source": [
        "# Get cpu or gpu device for training.\n",
        "device = \"cuda\" if torch.cuda.is_available() else \"cpu\"\n",
        "print(f\"Using {device} device\")"
      ]
    },
    {
      "cell_type": "code",
      "execution_count": 27,
      "id": "1e4fd7f6",
      "metadata": {
        "id": "1e4fd7f6"
      },
      "outputs": [],
      "source": [
        "x , y = df['text'] , df['type']"
      ]
    },
    {
      "cell_type": "code",
      "execution_count": 28,
      "id": "4cb96d79",
      "metadata": {
        "id": "4cb96d79"
      },
      "outputs": [],
      "source": [
        "lbl = LabelEncoder()\n",
        "y = lbl.fit_transform(y)"
      ]
    },
    {
      "cell_type": "code",
      "execution_count": 29,
      "id": "d3a65cc1",
      "metadata": {
        "id": "d3a65cc1"
      },
      "outputs": [],
      "source": [
        "X_train,X_test,y_train,y_test = train_test_split(x,y,test_size=0.2)"
      ]
    },
    {
      "cell_type": "code",
      "execution_count": 30,
      "id": "57ce84e2",
      "metadata": {
        "id": "57ce84e2"
      },
      "outputs": [],
      "source": [
        "X_train = X_train.to_numpy()\n",
        "X_test = X_test.to_numpy()"
      ]
    },
    {
      "cell_type": "code",
      "execution_count": 31,
      "id": "8e1a217d",
      "metadata": {
        "id": "8e1a217d"
      },
      "outputs": [],
      "source": [
        "y_train , y_test = np.array(y_train), np.array(y_test)"
      ]
    },
    {
      "cell_type": "code",
      "execution_count": 32,
      "id": "86382a23",
      "metadata": {
        "id": "86382a23"
      },
      "outputs": [],
      "source": [
        "def preprocess_text(text):\n",
        "    # You may need to implement more advanced preprocessing steps\n",
        "    return text.split()\n",
        "\n",
        "# Convert text data to numerical data\n",
        "vocab = set()\n",
        "for text in x:\n",
        "    tokens = preprocess_text(text)\n",
        "    vocab.update(tokens)"
      ]
    },
    {
      "cell_type": "code",
      "execution_count": 33,
      "id": "83d1168b",
      "metadata": {
        "id": "83d1168b"
      },
      "outputs": [],
      "source": [
        "vocab_size = len(vocab)\n",
        "embedding_dim = 100  # you may need to change this according to your task 100 is standard value\n",
        "max_length = max(len(seq) for seq in x)\n",
        "trunc_type= 'post'"
      ]
    },
    {
      "cell_type": "code",
      "execution_count": 34,
      "id": "a01b6a52",
      "metadata": {
        "scrolled": false,
        "id": "a01b6a52"
      },
      "outputs": [],
      "source": [
        "# Tokenize and pad sequences\n",
        "def tokenize_hindi(text):\n",
        "    tokens = word_tokenize(text,language='hindi',preserve_line=True)\n",
        "    return tokens\n",
        "\n",
        "trn_seq = [tokenize_hindi(item) for item in X_train]\n",
        "tst_seq = [tokenize_hindi(item) for item in X_test]"
      ]
    },
    {
      "cell_type": "code",
      "execution_count": 35,
      "id": "2355a84c",
      "metadata": {
        "id": "2355a84c"
      },
      "outputs": [],
      "source": [
        "word_to_idx = {}\n",
        "for seq in trn_seq + tst_seq:\n",
        "    for word in seq:\n",
        "        if word not in word_to_idx:\n",
        "            word_to_idx[word] = len(word_to_idx)"
      ]
    },
    {
      "cell_type": "code",
      "execution_count": 36,
      "id": "5559c8d6",
      "metadata": {
        "id": "5559c8d6"
      },
      "outputs": [],
      "source": [
        "trn_pad = [torch.tensor([word_to_idx[word] for word in seq]) for seq in trn_seq]\n",
        "trn_pad = nn.utils.rnn.pad_sequence(trn_pad, batch_first=True, padding_value=0)\n",
        "tst_pad = [torch.tensor([word_to_idx[word] for word in seq]) for seq in tst_seq]\n",
        "tst_pad = nn.utils.rnn.pad_sequence(tst_pad, batch_first=True, padding_value=0)"
      ]
    },
    {
      "cell_type": "code",
      "execution_count": 37,
      "id": "9ea9a868",
      "metadata": {
        "id": "9ea9a868"
      },
      "outputs": [],
      "source": [
        "# Define the RNN Model\n",
        "class RNNModel(nn.Module):\n",
        "    def __init__(self, vocab_size, embedding_dim, hidden_dim):\n",
        "        super(RNNModel, self).__init__()\n",
        "        self.embedding = nn.Embedding(vocab_size, embedding_dim)\n",
        "        self.rnn = nn.RNN(embedding_dim, hidden_dim, batch_first=True)\n",
        "        self.fc = nn.Sequential(\n",
        "            nn.Linear(hidden_dim, 128),\n",
        "            nn.ReLU(),\n",
        "            nn.Dropout(0.5),\n",
        "            nn.Linear(128, 32),\n",
        "            nn.ReLU(),\n",
        "            nn.Dropout(0.25),\n",
        "            nn.Linear(32, 10),\n",
        "            nn.ReLU(),\n",
        "            nn.Dropout(0.2),\n",
        "            nn.Linear(10, 1),\n",
        "            nn.Sigmoid()\n",
        "        )\n",
        "\n",
        "    def forward(self, x):\n",
        "        embedded = self.embedding(x)\n",
        "        rnn_output, _ = self.rnn(embedded)\n",
        "        rnn_output = rnn_output[:, -1, :]  # Get the last output of RNN sequence\n",
        "        output = self.fc(rnn_output)\n",
        "        return output"
      ]
    },
    {
      "cell_type": "code",
      "execution_count": 38,
      "id": "72be7c7e",
      "metadata": {
        "id": "72be7c7e"
      },
      "outputs": [],
      "source": [
        "# Instantiate the model\n",
        "hidden_dim = 256\n",
        "alpha = 0.001\n",
        "model_rnn = RNNModel(vocab_size, embedding_dim, hidden_dim)\n",
        "\n",
        "# Define loss function and optimizer\n",
        "loss_fn = nn.BCELoss()\n",
        "optimizer = optim.Adam(model_rnn.parameters(),lr=alpha)"
      ]
    },
    {
      "cell_type": "code",
      "execution_count": 39,
      "id": "3d426034",
      "metadata": {
        "id": "3d426034"
      },
      "outputs": [],
      "source": [
        "# Create DataLoader\n",
        "train_dataset = TensorDataset(trn_pad, torch.tensor(y_train, dtype=torch.float))\n",
        "train_loader = DataLoader(train_dataset, batch_size=32, shuffle=True)\n",
        "test_dataset = TensorDataset(tst_pad, torch.tensor(y_test, dtype=torch.float))\n",
        "test_loader = DataLoader(test_dataset, batch_size=32, shuffle=False)\n"
      ]
    },
    {
      "cell_type": "code",
      "execution_count": 40,
      "id": "7cc70c86",
      "metadata": {
        "colab": {
          "base_uri": "https://localhost:8080/"
        },
        "id": "7cc70c86",
        "outputId": "4795b289-ecc8-4e8a-fe45-362c702e2755"
      },
      "outputs": [
        {
          "output_type": "stream",
          "name": "stdout",
          "text": [
            "AUTO: Epoch 1, Test Accuracy: 21.8933\n",
            "MINE: At epoch 0 | Loss - train:0.6258, test:0.6179 | Acc - train:0.6850, test:0.6917\n",
            "AUTO: Epoch 2, Test Accuracy: 21.8933\n",
            "MINE: At epoch 1 | Loss - train:0.6218, test:0.6193 | Acc - train:0.6929, test:0.6917\n",
            "AUTO: Epoch 3, Test Accuracy: 21.8933\n",
            "MINE: At epoch 2 | Loss - train:0.6282, test:0.6254 | Acc - train:0.6967, test:0.6917\n",
            "AUTO: Epoch 4, Test Accuracy: 21.8933\n",
            "MINE: At epoch 3 | Loss - train:0.6231, test:0.6242 | Acc - train:0.7017, test:0.6917\n",
            "AUTO: Epoch 5, Test Accuracy: 21.8933\n",
            "MINE: At epoch 4 | Loss - train:0.6238, test:0.6183 | Acc - train:0.7017, test:0.6917\n"
          ]
        }
      ],
      "source": [
        "# for df\n",
        "\n",
        "loss, tloss = [],[]\n",
        "acc, tacc = [],[]\n",
        "n_epoch = []\n",
        "\n",
        "# Training loop\n",
        "for epoch in range(5):\n",
        "    model_rnn.train()\n",
        "    train_loss = 0.0\n",
        "    train_acc = 0.0\n",
        "    for batch_inputs, batch_labels in train_loader:\n",
        "        optimizer.zero_grad()\n",
        "        batch_outputs = model_rnn(batch_inputs.long())\n",
        "\n",
        "        predicted = torch.round(batch_outputs)\n",
        "\n",
        "        batch_loss = loss_fn(batch_outputs.squeeze(), batch_labels)\n",
        "        batch_acc = accuracy_score(batch_labels.cpu().numpy(),\n",
        "                                   predicted.detach().cpu().numpy())\n",
        "        batch_loss.backward()\n",
        "        optimizer.step()\n",
        "\n",
        "        train_loss += batch_loss.item() * batch_inputs.size(0)\n",
        "        train_acc += batch_acc * batch_inputs.size(0)\n",
        "\n",
        "    train_loss /= len(train_dataset)\n",
        "    train_acc /= len(train_dataset)\n",
        "\n",
        "    loss.append(train_loss)\n",
        "    acc.append(train_acc)\n",
        "\n",
        "    # Evaluation\n",
        "    model_rnn.eval()\n",
        "    test_loss = 0.0\n",
        "    test_acc = 0.0\n",
        "    with torch.no_grad():\n",
        "        correct = 0\n",
        "        total = 0\n",
        "        for batch_inputs, batch_labels in test_loader:\n",
        "            batch_outputs = model_rnn(batch_inputs.long())\n",
        "            predicted = torch.round(batch_outputs)\n",
        "\n",
        "            batch_loss = loss_fn(batch_outputs.squeeze(), batch_labels)\n",
        "            batch_acc = accuracy_score(batch_labels.cpu().numpy(),\n",
        "                                       predicted.detach().cpu().numpy())\n",
        "\n",
        "            test_loss += batch_loss.item() * batch_inputs.size(0)\n",
        "            test_acc += batch_acc* batch_inputs.size(0)\n",
        "\n",
        "            total += batch_labels.size(0)\n",
        "            correct += (predicted == batch_labels).sum().item()\n",
        "\n",
        "        test_loss /= len(test_dataset)\n",
        "        test_acc /= len(test_dataset)\n",
        "\n",
        "        tloss.append(test_loss)\n",
        "        tacc.append(test_acc)\n",
        "\n",
        "\n",
        "        accuracy = correct / total\n",
        "        print(f\"AUTO: Epoch {epoch+1}, Test Accuracy: {accuracy:.4f}\")\n",
        "\n",
        "    n_epoch.append(epoch)\n",
        "\n",
        "    print(f'MINE: At epoch {epoch} | Loss - train:{train_loss:.4f}, test:{test_loss:.4f} | Acc - train:{train_acc:.4f}, test:{test_acc:.4f}')"
      ]
    },
    {
      "cell_type": "code",
      "source": [
        "loss_df = pd.DataFrame({'epoch' : n_epoch, 'loss' : loss, 'test_loss': tloss, 'acc' : acc, 'test_acc': tacc})\n",
        "loss_df"
      ],
      "metadata": {
        "colab": {
          "base_uri": "https://localhost:8080/",
          "height": 206
        },
        "id": "qQq0z0zbycuE",
        "outputId": "b157e13d-b0a2-42b6-e6ab-e548af22a9f3"
      },
      "id": "qQq0z0zbycuE",
      "execution_count": 41,
      "outputs": [
        {
          "output_type": "execute_result",
          "data": {
            "text/plain": [
              "   epoch      loss  test_loss       acc  test_acc\n",
              "0      0  0.625847   0.617892  0.685000  0.691667\n",
              "1      1  0.621778   0.619341  0.692917  0.691667\n",
              "2      2  0.628184   0.625430  0.696667  0.691667\n",
              "3      3  0.623104   0.624230  0.701667  0.691667\n",
              "4      4  0.623844   0.618299  0.701667  0.691667"
            ],
            "text/html": [
              "\n",
              "  <div id=\"df-e13a5a2a-5ede-428c-9b68-be784fa1b44b\" class=\"colab-df-container\">\n",
              "    <div>\n",
              "<style scoped>\n",
              "    .dataframe tbody tr th:only-of-type {\n",
              "        vertical-align: middle;\n",
              "    }\n",
              "\n",
              "    .dataframe tbody tr th {\n",
              "        vertical-align: top;\n",
              "    }\n",
              "\n",
              "    .dataframe thead th {\n",
              "        text-align: right;\n",
              "    }\n",
              "</style>\n",
              "<table border=\"1\" class=\"dataframe\">\n",
              "  <thead>\n",
              "    <tr style=\"text-align: right;\">\n",
              "      <th></th>\n",
              "      <th>epoch</th>\n",
              "      <th>loss</th>\n",
              "      <th>test_loss</th>\n",
              "      <th>acc</th>\n",
              "      <th>test_acc</th>\n",
              "    </tr>\n",
              "  </thead>\n",
              "  <tbody>\n",
              "    <tr>\n",
              "      <th>0</th>\n",
              "      <td>0</td>\n",
              "      <td>0.625847</td>\n",
              "      <td>0.617892</td>\n",
              "      <td>0.685000</td>\n",
              "      <td>0.691667</td>\n",
              "    </tr>\n",
              "    <tr>\n",
              "      <th>1</th>\n",
              "      <td>1</td>\n",
              "      <td>0.621778</td>\n",
              "      <td>0.619341</td>\n",
              "      <td>0.692917</td>\n",
              "      <td>0.691667</td>\n",
              "    </tr>\n",
              "    <tr>\n",
              "      <th>2</th>\n",
              "      <td>2</td>\n",
              "      <td>0.628184</td>\n",
              "      <td>0.625430</td>\n",
              "      <td>0.696667</td>\n",
              "      <td>0.691667</td>\n",
              "    </tr>\n",
              "    <tr>\n",
              "      <th>3</th>\n",
              "      <td>3</td>\n",
              "      <td>0.623104</td>\n",
              "      <td>0.624230</td>\n",
              "      <td>0.701667</td>\n",
              "      <td>0.691667</td>\n",
              "    </tr>\n",
              "    <tr>\n",
              "      <th>4</th>\n",
              "      <td>4</td>\n",
              "      <td>0.623844</td>\n",
              "      <td>0.618299</td>\n",
              "      <td>0.701667</td>\n",
              "      <td>0.691667</td>\n",
              "    </tr>\n",
              "  </tbody>\n",
              "</table>\n",
              "</div>\n",
              "    <div class=\"colab-df-buttons\">\n",
              "\n",
              "  <div class=\"colab-df-container\">\n",
              "    <button class=\"colab-df-convert\" onclick=\"convertToInteractive('df-e13a5a2a-5ede-428c-9b68-be784fa1b44b')\"\n",
              "            title=\"Convert this dataframe to an interactive table.\"\n",
              "            style=\"display:none;\">\n",
              "\n",
              "  <svg xmlns=\"http://www.w3.org/2000/svg\" height=\"24px\" viewBox=\"0 -960 960 960\">\n",
              "    <path d=\"M120-120v-720h720v720H120Zm60-500h600v-160H180v160Zm220 220h160v-160H400v160Zm0 220h160v-160H400v160ZM180-400h160v-160H180v160Zm440 0h160v-160H620v160ZM180-180h160v-160H180v160Zm440 0h160v-160H620v160Z\"/>\n",
              "  </svg>\n",
              "    </button>\n",
              "\n",
              "  <style>\n",
              "    .colab-df-container {\n",
              "      display:flex;\n",
              "      gap: 12px;\n",
              "    }\n",
              "\n",
              "    .colab-df-convert {\n",
              "      background-color: #E8F0FE;\n",
              "      border: none;\n",
              "      border-radius: 50%;\n",
              "      cursor: pointer;\n",
              "      display: none;\n",
              "      fill: #1967D2;\n",
              "      height: 32px;\n",
              "      padding: 0 0 0 0;\n",
              "      width: 32px;\n",
              "    }\n",
              "\n",
              "    .colab-df-convert:hover {\n",
              "      background-color: #E2EBFA;\n",
              "      box-shadow: 0px 1px 2px rgba(60, 64, 67, 0.3), 0px 1px 3px 1px rgba(60, 64, 67, 0.15);\n",
              "      fill: #174EA6;\n",
              "    }\n",
              "\n",
              "    .colab-df-buttons div {\n",
              "      margin-bottom: 4px;\n",
              "    }\n",
              "\n",
              "    [theme=dark] .colab-df-convert {\n",
              "      background-color: #3B4455;\n",
              "      fill: #D2E3FC;\n",
              "    }\n",
              "\n",
              "    [theme=dark] .colab-df-convert:hover {\n",
              "      background-color: #434B5C;\n",
              "      box-shadow: 0px 1px 3px 1px rgba(0, 0, 0, 0.15);\n",
              "      filter: drop-shadow(0px 1px 2px rgba(0, 0, 0, 0.3));\n",
              "      fill: #FFFFFF;\n",
              "    }\n",
              "  </style>\n",
              "\n",
              "    <script>\n",
              "      const buttonEl =\n",
              "        document.querySelector('#df-e13a5a2a-5ede-428c-9b68-be784fa1b44b button.colab-df-convert');\n",
              "      buttonEl.style.display =\n",
              "        google.colab.kernel.accessAllowed ? 'block' : 'none';\n",
              "\n",
              "      async function convertToInteractive(key) {\n",
              "        const element = document.querySelector('#df-e13a5a2a-5ede-428c-9b68-be784fa1b44b');\n",
              "        const dataTable =\n",
              "          await google.colab.kernel.invokeFunction('convertToInteractive',\n",
              "                                                    [key], {});\n",
              "        if (!dataTable) return;\n",
              "\n",
              "        const docLinkHtml = 'Like what you see? Visit the ' +\n",
              "          '<a target=\"_blank\" href=https://colab.research.google.com/notebooks/data_table.ipynb>data table notebook</a>'\n",
              "          + ' to learn more about interactive tables.';\n",
              "        element.innerHTML = '';\n",
              "        dataTable['output_type'] = 'display_data';\n",
              "        await google.colab.output.renderOutput(dataTable, element);\n",
              "        const docLink = document.createElement('div');\n",
              "        docLink.innerHTML = docLinkHtml;\n",
              "        element.appendChild(docLink);\n",
              "      }\n",
              "    </script>\n",
              "  </div>\n",
              "\n",
              "\n",
              "<div id=\"df-76260f5e-7c72-4393-8854-3a5f32e4bc4b\">\n",
              "  <button class=\"colab-df-quickchart\" onclick=\"quickchart('df-76260f5e-7c72-4393-8854-3a5f32e4bc4b')\"\n",
              "            title=\"Suggest charts.\"\n",
              "            style=\"display:none;\">\n",
              "\n",
              "<svg xmlns=\"http://www.w3.org/2000/svg\" height=\"24px\"viewBox=\"0 0 24 24\"\n",
              "     width=\"24px\">\n",
              "    <g>\n",
              "        <path d=\"M19 3H5c-1.1 0-2 .9-2 2v14c0 1.1.9 2 2 2h14c1.1 0 2-.9 2-2V5c0-1.1-.9-2-2-2zM9 17H7v-7h2v7zm4 0h-2V7h2v10zm4 0h-2v-4h2v4z\"/>\n",
              "    </g>\n",
              "</svg>\n",
              "  </button>\n",
              "\n",
              "<style>\n",
              "  .colab-df-quickchart {\n",
              "    background-color: #E8F0FE;\n",
              "    border: none;\n",
              "    border-radius: 50%;\n",
              "    cursor: pointer;\n",
              "    display: none;\n",
              "    fill: #1967D2;\n",
              "    height: 32px;\n",
              "    padding: 0 0 0 0;\n",
              "    width: 32px;\n",
              "  }\n",
              "\n",
              "  .colab-df-quickchart:hover {\n",
              "    background-color: #E2EBFA;\n",
              "    box-shadow: 0px 1px 2px rgba(60, 64, 67, 0.3), 0px 1px 3px 1px rgba(60, 64, 67, 0.15);\n",
              "    fill: #174EA6;\n",
              "  }\n",
              "\n",
              "  [theme=dark] .colab-df-quickchart {\n",
              "    background-color: #3B4455;\n",
              "    fill: #D2E3FC;\n",
              "  }\n",
              "\n",
              "  [theme=dark] .colab-df-quickchart:hover {\n",
              "    background-color: #434B5C;\n",
              "    box-shadow: 0px 1px 3px 1px rgba(0, 0, 0, 0.15);\n",
              "    filter: drop-shadow(0px 1px 2px rgba(0, 0, 0, 0.3));\n",
              "    fill: #FFFFFF;\n",
              "  }\n",
              "</style>\n",
              "\n",
              "  <script>\n",
              "    async function quickchart(key) {\n",
              "      const charts = await google.colab.kernel.invokeFunction(\n",
              "          'suggestCharts', [key], {});\n",
              "    }\n",
              "    (() => {\n",
              "      let quickchartButtonEl =\n",
              "        document.querySelector('#df-76260f5e-7c72-4393-8854-3a5f32e4bc4b button');\n",
              "      quickchartButtonEl.style.display =\n",
              "        google.colab.kernel.accessAllowed ? 'block' : 'none';\n",
              "    })();\n",
              "  </script>\n",
              "</div>\n",
              "    </div>\n",
              "  </div>\n"
            ]
          },
          "metadata": {},
          "execution_count": 41
        }
      ]
    },
    {
      "cell_type": "code",
      "source": [
        "import matplotlib.pyplot as plt\n",
        "\n",
        "###-----------------------------------\n",
        "### parameters for Matplotlib\n",
        "###-----------------------------------\n",
        "\n",
        "params = {'legend.fontsize': 'x-large',\n",
        "          'figure.figsize': (15, 10),\n",
        "          'axes.labelsize': 'x-large',\n",
        "          'axes.titlesize':'x-large',\n",
        "          'xtick.labelsize':'x-large',\n",
        "          'ytick.labelsize':'x-large'\n",
        "         }\n",
        "\n",
        "CMAP = plt.cm.coolwarm\n",
        "\n",
        "plt.rcParams.update(params)\n",
        "\n",
        "###-----------------------------------\n",
        "### Function to plot Loss Curve\n",
        "###-----------------------------------\n",
        "\n",
        "def plot_hist(hist_df):\n",
        "\n",
        "    # instantiate figure\n",
        "    fig, axes = plt.subplots(1,2 , figsize = (15,6))\n",
        "\n",
        "    # properties  matplotlib.patch.Patch\n",
        "    props = dict(boxstyle='round', facecolor='cyan', alpha=0.5)\n",
        "\n",
        "    # Where was min loss\n",
        "    best = hist_df[hist_df['test_loss'] == hist_df['test_loss'].min()]\n",
        "\n",
        "    # pick first axis\n",
        "    ax = axes[0]\n",
        "\n",
        "    # Plot all losses\n",
        "    hist_df.plot(x = 'epoch', y = ['loss', 'test_loss'], ax = ax)\n",
        "\n",
        "    # little beautification\n",
        "    txtFmt = \"Loss: \\n  train: {:6.4f}\\n   test: {:6.4f}\"\n",
        "    txtstr = txtFmt.format(loss_df.iloc[-1]['loss'],\n",
        "                           loss_df.iloc[-1]['test_loss']) #text to plot\n",
        "\n",
        "    # place a text box in upper middle in axes coords\n",
        "    ax.text(0.3, 0.95, txtstr, transform=ax.transAxes, fontsize=14,\n",
        "            verticalalignment='top', bbox=props)\n",
        "\n",
        "    # Mark arrow at lowest\n",
        "    ax.annotate(f'Min: {best[\"test_loss\"].to_numpy()[0]:6.4f}', # text to print\n",
        "                xy=(best['epoch'].to_numpy(), best[\"test_loss\"].to_numpy()[0]), # Arrow start\n",
        "                xytext=(best['epoch'].to_numpy()+0.01, best[\"test_loss\"].to_numpy()[0]+0.01), # location of text\n",
        "                fontsize=14,va='bottom', ha='right',bbox=props, # beautification of text\n",
        "                arrowprops=dict(facecolor='cyan', shrink=0.05)) # arrow\n",
        "\n",
        "    # Draw vertical line at best value\n",
        "    ax.axvline(x = best['epoch'].to_numpy(), color = 'green', linestyle='-.', lw = 3);\n",
        "\n",
        "    ax.set_xlabel(\"Epochs\")\n",
        "    ax.set_ylabel(\"Loss\")\n",
        "    ax.set_title('Errors')\n",
        "    ax.grid()\n",
        "    ax.legend(loc = 'upper left') # model legend to upper left\n",
        "\n",
        "    # pick second axis\n",
        "    ax = axes[1]\n",
        "\n",
        "    # Plot accuracies\n",
        "    hist_df.plot(x = 'epoch', y = ['acc', 'test_acc'], ax = ax)\n",
        "\n",
        "    # little beautification\n",
        "    txtFmt = \"Accuracy: \\n  train: {:6.4f}\\n  test:  {:6.4f}\"\n",
        "    txtstr = txtFmt.format(loss_df.iloc[-1]['acc'],\n",
        "                           loss_df.iloc[-1]['test_acc']) #text to plot\n",
        "\n",
        "    # place a text box in lower middle in axes coords\n",
        "    ax.text(0.3, 0.2, txtstr, transform=ax.transAxes, fontsize=12,\n",
        "            verticalalignment='top', bbox=props)\n",
        "\n",
        "    # Mark arrow at lowest\n",
        "    ax.annotate(f'Best: {best[\"test_acc\"].to_numpy()[0]:6.4f}', # text to print\n",
        "                xy=(best['epoch'].to_numpy(), best[\"test_acc\"].to_numpy()[0]), # Arrow start\n",
        "                xytext=(best['epoch'].to_numpy()-2, best[\"test_acc\"].to_numpy()[0]), # location of text\n",
        "                fontsize=14,va='bottom', ha='right',bbox=props, # beautification of text\n",
        "                arrowprops=dict(facecolor='cyan', shrink=0.05)) # arrow\n",
        "\n",
        "\n",
        "    # Draw a vertical line at best value\n",
        "    ax.axvline(x = best['epoch'].to_numpy(),\n",
        "               color = 'green',\n",
        "               linestyle='-.', lw = 3)\n",
        "\n",
        "    # Labels\n",
        "    ax.set_xlabel(\"Epochs\")\n",
        "    ax.set_ylabel(\"Accuracy\")\n",
        "    ax.set_title('Accuracies')\n",
        "    ax.grid();\n",
        "    ax.legend(loc = 'lower left')\n",
        "\n",
        "    plt.tight_layout()"
      ],
      "metadata": {
        "id": "rC7ncUYLQONv"
      },
      "id": "rC7ncUYLQONv",
      "execution_count": 42,
      "outputs": []
    },
    {
      "cell_type": "code",
      "source": [
        "plot_hist(loss_df)"
      ],
      "metadata": {
        "colab": {
          "base_uri": "https://localhost:8080/",
          "height": 282
        },
        "id": "Y-NGdGNQQNtr",
        "outputId": "a32157ab-336b-495c-f519-e357027fb2ca"
      },
      "id": "Y-NGdGNQQNtr",
      "execution_count": 43,
      "outputs": [
        {
          "output_type": "display_data",
          "data": {
            "text/plain": [
              "<Figure size 1500x600 with 2 Axes>"
            ],
            "image/png": "[encoded data removed]"
          },
          "metadata": {}
        }
      ]
    },
    {
      "cell_type": "code",
      "execution_count": null,
      "id": "42f1e395",
      "metadata": {
        "id": "42f1e395"
      },
      "outputs": [],
      "source": [
        "model_rnn.save(\"model_rnn_pytorch.h5\")"
      ]
    }
  ],
  "metadata": {
    "kernelspec": {
      "display_name": "Python 3",
      "name": "python3"
    },
    "language_info": {
      "codemirror_mode": {
        "name": "ipython",
        "version": 3
      },
      "file_extension": ".py",
      "mimetype": "text/x-python",
      "name": "python",
      "nbconvert_exporter": "python",
      "pygments_lexer": "ipython3",
      "version": "3.10.9"
    },
    "colab": {
      "provenance": [],
      "gpuType": "T4"
    },
    "accelerator": "GPU"
  },
  "nbformat": 4,
  "nbformat_minor": 5
}